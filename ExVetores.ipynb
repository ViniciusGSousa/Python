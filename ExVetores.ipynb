{
  "nbformat": 4,
  "nbformat_minor": 0,
  "metadata": {
    "colab": {
      "provenance": [],
      "authorship_tag": "ABX9TyPzflB9gM5A6CY2Ogl8CqzN",
      "include_colab_link": true
    },
    "kernelspec": {
      "name": "python3",
      "display_name": "Python 3"
    },
    "language_info": {
      "name": "python"
    }
  },
  "cells": [
    {
      "cell_type": "markdown",
      "metadata": {
        "id": "view-in-github",
        "colab_type": "text"
      },
      "source": [
        "<a href=\"https://colab.research.google.com/github/ViniciusGSousa/Python/blob/main/ExVetores.ipynb\" target=\"_parent\"><img src=\"https://colab.research.google.com/assets/colab-badge.svg\" alt=\"Open In Colab\"/></a>"
      ]
    },
    {
      "cell_type": "markdown",
      "source": [
        "1- Criar e coletar um vetor de 50  inteiro. Calcular e exibir:\n",
        "\n",
        "A média dos valores entre 10 e 200;\n",
        "\n",
        "A soma dos números ímpares."
      ],
      "metadata": {
        "id": "M5uD5fY5TiKs"
      }
    },
    {
      "cell_type": "code",
      "execution_count": null,
      "metadata": {
        "id": "UFrTW6d1hCkf",
        "colab": {
          "base_uri": "https://localhost:8080/"
        },
        "outputId": "4d643bd7-9c99-4a5d-bd7b-7a5023ca1e42"
      },
      "outputs": [
        {
          "output_type": "stream",
          "name": "stdout",
          "text": [
            "Digite o 1º número inteiro: 10\n",
            "Digite o 2º número inteiro: 7\n",
            "Digite o 3º número inteiro: 5\n",
            "Digite o 4º número inteiro: 1\n",
            "Digite o 5º número inteiro: 50\n",
            "\n",
            "Média dos valores entre 10 e 200: 30.0\n",
            "Soma dos números ímpares: 13\n"
          ]
        }
      ],
      "source": [
        "vet = []\n",
        "c = 1\n",
        "contDiv = 0\n",
        "somaP = 0\n",
        "\n",
        "for i in range(50):\n",
        "    val = int(input(f\"Digite o {i+1}º número inteiro: \"))\n",
        "    vet.append(val)\n",
        "    if (vet[i] % 2 == 0):\n",
        "      somaP = somaP\n",
        "    else:\n",
        "      somaP\t= somaP + vet[i]\n",
        "\n",
        "vetM = [num for num in vet if 10 <= num <= 200]\n",
        "if vetM:\n",
        "    media = sum(vetM) / len(vetM)\n",
        "\n",
        "print(\"\\nMédia dos valores entre 10 e 200:\", media)\n",
        "print(\"Soma dos números ímpares:\", somaP)"
      ]
    },
    {
      "cell_type": "markdown",
      "source": [
        "2- Criar e coletar um vetor de 100 inteiro e exibir:\n",
        "O maior e o menor valor;\n",
        "A média dos valores"
      ],
      "metadata": {
        "id": "TbVdfNJVeW6X"
      }
    },
    {
      "cell_type": "code",
      "source": [
        "vet = []\n",
        "med, soma, cont = 0, 0, 0\n",
        "Mval, mVal, aux, test = 0, 0, 0, 0\n",
        "\n",
        "for x in range(100):\n",
        "    val = int(input(f\"Digite o {i+1}º número inteiro: \"))\n",
        "    vet.append(val)\n",
        "    cont = cont + 1\n",
        "    soma = soma + vet[x]\n",
        "    aux = vet[x]\n",
        "    if (aux < test):\n",
        "      mVal = aux\n",
        "    test = aux\n",
        "    if Mval < vet[x]:\n",
        "      Mval = vet[x]\n",
        "\n",
        "med = soma / cont\n",
        "print(\"\\nO maior valor é:\", Mval)\n",
        "print(\"O menor valor é:\", mVal)\n",
        "print(\"A média dos valores é:\", med)"
      ],
      "metadata": {
        "id": "pT4IBWTECemD",
        "colab": {
          "base_uri": "https://localhost:8080/"
        },
        "outputId": "fefbdc6a-2271-4195-e916-24c368cadbc7"
      },
      "execution_count": null,
      "outputs": [
        {
          "output_type": "stream",
          "name": "stdout",
          "text": [
            "Digite o 5º número inteiro: 15\n",
            "Digite o 5º número inteiro: 5\n",
            "Digite o 5º número inteiro: 10\n",
            "Digite o 5º número inteiro: 7\n",
            "Digite o 5º número inteiro: 13\n",
            "\n",
            "O maior valor é: 15\n",
            "O menor valor é: 7\n",
            "A média dos valores é: 10.0\n"
          ]
        }
      ]
    },
    {
      "cell_type": "markdown",
      "source": [
        "3- Criar e coletar valores inteiros nos vetores VT1[3] e VT2[3]. Concatenar esses valores em um 3º vetor (VT3[6]) e mostrar os seus dados. P. ex:\n",
        "\n",
        "VT1|\t1|\t2|\t3|\n",
        "|VT2|\t4|\t5|\t6|\n",
        "|VT3|\t1|\t2|\t3|\t4|\t5|\t6"
      ],
      "metadata": {
        "id": "46yAxxc1edn6"
      }
    },
    {
      "cell_type": "code",
      "source": [
        "vet1 = []\n",
        "vet2 = []\n",
        "vet3 = []\n",
        "\n",
        "for i in range(0, 3):\n",
        "    vet1.append(int(input(f\"Digite o {i+1}º número: \")))\n",
        "\n",
        "for i in range(3, 6):\n",
        "    vet2.append(int(input(f\"Digite o {i+1}º número: \")))\n",
        "\n",
        "vet3 = vet1 + vet2\n",
        "\n",
        "print(\"\\nvetor1:\", vet1)\n",
        "print(\"vetor2:\", vet2)\n",
        "print(\"vetor3:\", vet3)"
      ],
      "metadata": {
        "colab": {
          "base_uri": "https://localhost:8080/"
        },
        "id": "FSqk_4Gzehwc",
        "outputId": "89c6b1b5-633c-4541-cb8f-f9bf38792b69"
      },
      "execution_count": null,
      "outputs": [
        {
          "output_type": "stream",
          "name": "stdout",
          "text": [
            "Digite o 1º número: 1\n",
            "Digite o 2º número: 2\n",
            "Digite o 3º número: 3\n",
            "Digite o 4º número: 4\n",
            "Digite o 5º número: 5\n",
            "Digite o 6º número: 6\n",
            "\n",
            "vetor1: [1, 2, 3]\n",
            "vetor2: [4, 5, 6]\n",
            "vetor3: [1, 2, 3, 4, 5, 6]\n"
          ]
        }
      ]
    },
    {
      "cell_type": "markdown",
      "source": [
        "4- Criar e coletar em um vetor [30] real e calcular e exibir:\n",
        "\n",
        "A média do grupo;\n",
        "\n",
        "A quantidade de notas acima do grupo;\n",
        "\n",
        "As posições dos valores abaixo da média do grupo.\n"
      ],
      "metadata": {
        "id": "EQBRKkHCep9v"
      }
    },
    {
      "cell_type": "code",
      "source": [
        "vet = []\n",
        "soma, notaA, pnotaB, cnotaB = 0, 0, 0, 0\n",
        "\n",
        "for i in range(30):\n",
        "    vet.append(int(input(f\"Digite a nota do {i+1}º aluno: \")))\n",
        "    soma = soma + vet[i]\n",
        "\n",
        "med = (soma / (i+1))\n",
        "\n",
        "print(\"\\nAs posições dos valores abaixo da média do grupo são:\")\n",
        "for i in range(30):\n",
        "  if (vet[i] >= med):\n",
        "    notaA = notaA + 1\n",
        "  else:\n",
        "    pnotaB = i\n",
        "    cnotaB = cnotaB + 1\n",
        "    print(\"p:\", pnotaB, end = \" \\n\")\n",
        "\n",
        "if(cnotaB == 0):\n",
        "  print(\"Nenhuma\")\n",
        "print(\"\\nA média do grupo é:\", med)\n",
        "print(\"A quantidade de notas acima do grupo é:\", notaA)\n"
      ],
      "metadata": {
        "colab": {
          "base_uri": "https://localhost:8080/"
        },
        "id": "hzMXpVLig8O0",
        "outputId": "81a40539-c2af-450a-be62-df0ddc8ccfe0"
      },
      "execution_count": null,
      "outputs": [
        {
          "output_type": "stream",
          "name": "stdout",
          "text": [
            "Digite a nota do 1º aluno: 10\n",
            "Digite a nota do 2º aluno: 1\n",
            "Digite a nota do 3º aluno: 6\n",
            "Digite a nota do 4º aluno: 5\n",
            "Digite a nota do 5º aluno: 7\n",
            "\n",
            "As posições dos valores abaixo da média do grupo são:\n",
            "p: 1 \n",
            "p: 3 \n",
            "\n",
            "A média do grupo é: 5.8\n",
            "A quantidade de notas acima do grupo é: 3\n"
          ]
        }
      ]
    },
    {
      "cell_type": "markdown",
      "source": [
        "5- Criar e coletar em um vetor [20] inteiro. Calcule e exiba, segundo:\n",
        "\n",
        "10\n",
        "∑ (A[1] – A[21–1])\n",
        "i = 1\n"
      ],
      "metadata": {
        "id": "K3G0EM4DmYQL"
      }
    },
    {
      "cell_type": "code",
      "source": [
        "vetor = []\n",
        "\n",
        "for i in range(20):\n",
        "    vetor.append(int(input(f\"Digite o {i+1}º valor: \")))\n",
        "\n",
        "print(\"\\nVetor gerado:\")\n",
        "print(vetor)\n",
        "\n",
        "soma = 0\n",
        "for i in range(1, 11):\n",
        "    aux = vetor[i - 1] - vetor[20 - i]\n",
        "    print(f\"({vetor[i - 1]} - {vetor[20 - i]}) = {aux}\")\n",
        "    soma += aux\n",
        "\n",
        "print(f\"\\nResultado da soma: {soma}\")"
      ],
      "metadata": {
        "colab": {
          "base_uri": "https://localhost:8080/",
          "height": 0
        },
        "id": "xMpYfrMgLwPH",
        "outputId": "2b85995f-cdc4-49ca-f50e-9bbf3e9e9f42"
      },
      "execution_count": 131,
      "outputs": [
        {
          "output_type": "stream",
          "name": "stdout",
          "text": [
            "Digite o 1º valor: 80\n",
            "Digite o 2º valor: 90\n",
            "Digite o 3º valor: 100\n",
            "Digite o 4º valor: 40\n",
            "Digite o 5º valor: 45\n",
            "Digite o 6º valor: 50\n",
            "\n",
            "Vetor gerado:\n",
            "[80, 90, 100, 40, 45, 50]\n",
            "(80 - 50) = 30\n",
            "(90 - 45) = 45\n",
            "(100 - 40) = 60\n",
            "\n",
            "Resultado da soma: 135\n"
          ]
        }
      ]
    },
    {
      "cell_type": "markdown",
      "source": [
        "6- Criar e coletar em um vetor [20] com números aleatórios.\n",
        "\n",
        "Classificar este vetor em ordem crescente e mostre os dados.\n"
      ],
      "metadata": {
        "id": "-y4z1NywDmkq"
      }
    },
    {
      "cell_type": "code",
      "source": [
        "vet = []\n",
        "\n",
        "for x in range(20):\n",
        "    vet.append(int(input(f\"Digite o {x+1}º número: \")))\n",
        "\n",
        "for x in range(19):\n",
        "  for y in range((x+1), 20):\n",
        "    if vet[x] > vet[y]:\n",
        "      aux = vet[x]\n",
        "      vet[x] = vet[y]\n",
        "      vet[y] = aux\n",
        "\n",
        "print(\"\\nVetor classificado:\")\n",
        "for x in range(20):\n",
        "  print(vet[x], end = \" \")"
      ],
      "metadata": {
        "colab": {
          "base_uri": "https://localhost:8080/",
          "height": 0
        },
        "id": "Ao4SNE1YDxJh",
        "outputId": "53db0b80-9cee-48eb-fc72-2b8cc2b8402e"
      },
      "execution_count": 113,
      "outputs": [
        {
          "output_type": "stream",
          "name": "stdout",
          "text": [
            "Digite o 1º número: 4\n",
            "Digite o 2º número: 1\n",
            "Digite o 3º número: 98\n",
            "Digite o 4º número: 5\n",
            "Digite o 5º número: 648\n",
            "Digite o 6º número: 45\n",
            "Digite o 7º número: 79\n",
            "Digite o 8º número: 46\n",
            "Digite o 9º número: 8\n",
            "Digite o 10º número: 74\n",
            "\n",
            "Vetor classificado:\n",
            "1 4 5 8 45 46 74 79 98 648 "
          ]
        }
      ]
    },
    {
      "cell_type": "markdown",
      "source": [
        "7- A partir do exercício 6 (vetor classificado) solicitar um valor qualquer e verificar a sua existência no vetor (utilizar pesquisa binária).\n"
      ],
      "metadata": {
        "id": "gIZ5P8uBGCJK"
      }
    },
    {
      "cell_type": "code",
      "source": [
        "vetor = []\n",
        "\n",
        "for x in range(20):\n",
        "    vetor.append(int(input(f\"Digite o {x+1}º número: \")))\n",
        "\n",
        "print(\"\\nVetor gerado:\")\n",
        "print(vetor)\n",
        "\n",
        "for x in range(19):\n",
        "  for y in range((x+1), 20):\n",
        "    if vetor[x] > vetor[y]:\n",
        "      aux = vetor[x]\n",
        "      vetor[x] = vetor[y]\n",
        "      vetor[y] = aux\n",
        "\n",
        "print(\"\\nVetor ordenado:\")\n",
        "print(vetor)\n",
        "\n",
        "valor = int(input(\"\\nDigite um valor para buscar no vetor: \"))\n",
        "\n",
        "def pesquisa_binaria(lista, alvo):\n",
        "    inicio = 0\n",
        "    fim = len(lista) - 1\n",
        "    while inicio <= fim:\n",
        "        meio = (inicio + fim) // 2\n",
        "        if lista[meio] == alvo:\n",
        "            return meio\n",
        "        elif lista[meio] < alvo:\n",
        "            inicio = meio + 1\n",
        "        else:\n",
        "            fim = meio - 1\n",
        "    return -1\n",
        "\n",
        "posicao = pesquisa_binaria(vetor, valor)\n",
        "\n",
        "if posicao != -1:\n",
        "    print(f\"\\nValor {valor} encontrado na posição {posicao + 1} do vetor ordenado.\")\n",
        "else:\n",
        "    print(f\"\\nValor {valor} não encontrado no vetor.\")"
      ],
      "metadata": {
        "colab": {
          "base_uri": "https://localhost:8080/",
          "height": 0
        },
        "id": "UbgoPNNTJB2I",
        "outputId": "dc0956e2-497f-4f37-e545-953e3c991d78"
      },
      "execution_count": 119,
      "outputs": [
        {
          "output_type": "stream",
          "name": "stdout",
          "text": [
            "Digite o 1º número: 1\n",
            "Digite o 2º número: 25\n",
            "Digite o 3º número: 68\n",
            "Digite o 4º número: 9\n",
            "Digite o 5º número: 12\n",
            "Digite o 6º número: 31\n",
            "Digite o 7º número: 13\n",
            "Digite o 8º número: 51\n",
            "Digite o 9º número: 68\n",
            "Digite o 10º número: 92\n",
            "Vetor gerado:\n",
            "[1, 25, 68, 9, 12, 31, 13, 51, 68, 92]\n",
            "\n",
            "Vetor ordenado:\n",
            "[1, 9, 12, 13, 25, 31, 51, 68, 68, 92]\n",
            "\n",
            "Digite um valor para buscar no vetor: 31\n",
            "\n",
            "Valor 31 encontrado na posição 6 do vetor ordenado.\n"
          ]
        }
      ]
    }
  ]
}