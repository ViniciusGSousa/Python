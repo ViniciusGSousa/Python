{
  "nbformat": 4,
  "nbformat_minor": 0,
  "metadata": {
    "colab": {
      "provenance": [],
      "authorship_tag": "ABX9TyNdX9CHXjwYCW8MobN20yrc",
      "include_colab_link": true
    },
    "kernelspec": {
      "name": "python3",
      "display_name": "Python 3"
    },
    "language_info": {
      "name": "python"
    }
  },
  "cells": [
    {
      "cell_type": "markdown",
      "metadata": {
        "id": "view-in-github",
        "colab_type": "text"
      },
      "source": [
        "<a href=\"https://colab.research.google.com/github/ViniciusGSousa/Python/blob/main/ExMatrizes.ipynb\" target=\"_parent\"><img src=\"https://colab.research.google.com/assets/colab-badge.svg\" alt=\"Open In Colab\"/></a>"
      ]
    },
    {
      "cell_type": "markdown",
      "source": [
        "8- Criar e carregar uma matriz [4][3] inteiro com quantidade de produtos vendidos em 4 semanas. Calcular e exibir:\n",
        "\n",
        "A quantidade de cada produto vendido no mês;\n",
        "\n",
        "A quantidade de produtos vendidos por semana;\n",
        "\n",
        "O total de produtos vendidos no mês.\n"
      ],
      "metadata": {
        "id": "dYeh5L0LyStD"
      }
    },
    {
      "cell_type": "code",
      "execution_count": null,
      "metadata": {
        "colab": {
          "base_uri": "https://localhost:8080/"
        },
        "id": "Ex13hJZryF5N",
        "outputId": "44285abb-03d5-40c1-e388-e4afe9502da6"
      },
      "outputs": [
        {
          "output_type": "stream",
          "name": "stdout",
          "text": [
            "Digite a quantidade de produtos vendidos (4 semanas, 3 produtos):\n",
            "Semana 1 - Produto 1: 10\n",
            "Semana 1 - Produto 2: 10\n",
            "Semana 1 - Produto 3: 10\n",
            "Semana 2 - Produto 1: 20\n",
            "Semana 2 - Produto 2: 20\n",
            "Semana 2 - Produto 3: 20\n",
            "Semana 3 - Produto 1: 30\n",
            "Semana 3 - Produto 2: 30\n",
            "Semana 3 - Produto 3: 30\n",
            "Semana 4 - Produto 1: 40\n",
            "Semana 4 - Produto 2: 40\n",
            "Semana 4 - Produto 3: 40\n",
            "\n",
            "Quantidade de cada produto vendido no mês:\n",
            "Produto 1: 100 unidades\n",
            "Produto 2: 100 unidades\n",
            "Produto 3: 100 unidades\n",
            "\n",
            "Quantidade de produtos vendidos por semana:\n",
            "Semana 1: 30 unidades\n",
            "Semana 2: 60 unidades\n",
            "Semana 3: 90 unidades\n",
            "Semana 4: 120 unidades\n",
            "\n",
            "Total de produtos vendidos no mês: 300 unidades\n"
          ]
        }
      ],
      "source": [
        "mat = []\n",
        "\n",
        "print(\"Digite a quantidade de produtos vendidos (4 semanas, 3 produtos):\")\n",
        "for x in range(4):\n",
        "    matX = []\n",
        "    for y in range(3):\n",
        "        matY = int(input(f\"Semana {x + 1} - Produto {y + 1}: \"))\n",
        "        matX.append(matY)\n",
        "    mat.append(matX)\n",
        "\n",
        "print(\"\\nQuantidade de cada produto vendido no mês:\")\n",
        "for y in range(3):\n",
        "    Tprod = sum(mat[x][y] for x in range(4))\n",
        "    print(f\"Produto {y + 1}: {Tprod} unidades\")\n",
        "\n",
        "print(\"\\nQuantidade de produtos vendidos por semana:\")\n",
        "for x in range(4):\n",
        "    Tsem = sum(mat[x])\n",
        "    print(f\"Semana {x + 1}: {Tsem} unidades\")\n",
        "\n",
        "Tmes = sum(sum(x) for x in mat)\n",
        "print(f\"\\nTotal de produtos vendidos no mês: {Tmes} unidades\")"
      ]
    },
    {
      "cell_type": "markdown",
      "source": [
        "9- Criar e carregar uma matriz [4][4] com valores aleatórios, sendo que a diagonal principal terá seus dados carregados no programa segundo:\n",
        "\n",
        "1, 4, 16, 64\n"
      ],
      "metadata": {
        "id": "3adVetl53kMy"
      }
    },
    {
      "cell_type": "code",
      "source": [
        "mat = []\n",
        "cont = 1\n",
        "\n",
        "for x in range(4):\n",
        "    matX = []\n",
        "    for y in range(4):\n",
        "        if x == y:\n",
        "            matX.append(cont)\n",
        "            cont = cont * 4\n",
        "        else:\n",
        "            val = int(input(f\"Digite um valor: \"))\n",
        "            matX.append(val)\n",
        "    mat.append(matX)\n",
        "\n",
        "print(\"Matriz 4x4:\")\n",
        "for matX in mat:\n",
        "    print(matX)"
      ],
      "metadata": {
        "colab": {
          "base_uri": "https://localhost:8080/"
        },
        "id": "hxByzFQI6XIR",
        "outputId": "55363204-da2f-4ae0-a0a4-90c58ed62328"
      },
      "execution_count": null,
      "outputs": [
        {
          "output_type": "stream",
          "name": "stdout",
          "text": [
            "Digite um valor: 5\n",
            "Digite um valor: 8\n",
            "Digite um valor: 75\n",
            "Digite um valor: 9\n",
            "Digite um valor: 3\n",
            "Digite um valor: 51\n",
            "Digite um valor: 2\n",
            "Digite um valor: 4\n",
            "Digite um valor: 6\n",
            "Digite um valor: 3\n",
            "Digite um valor: 9\n",
            "Digite um valor: 7\n",
            "Matriz 4x4:\n",
            "[1, 5, 8, 75]\n",
            "[9, 4, 3, 51]\n",
            "[2, 4, 16, 6]\n",
            "[3, 9, 7, 64]\n"
          ]
        }
      ]
    },
    {
      "cell_type": "markdown",
      "source": [
        "10 - Criar uma matriz [8][8] onde o programa irá carregar segundo:\n",
        "os valores dobram"
      ],
      "metadata": {
        "id": "-jjRJ4tt8mvh"
      }
    },
    {
      "cell_type": "code",
      "source": [
        "mat = []\n",
        "val = 1\n",
        "\n",
        "for x in range(8):\n",
        "    matX = []\n",
        "    for y in range(8):\n",
        "            matX.append(val)\n",
        "            val = val * 2\n",
        "    mat.append(matX)\n",
        "\n",
        "print(\"Matriz 8x8 com valores dobrando:\")\n",
        "for matX in mat:\n",
        "    print(matX)"
      ],
      "metadata": {
        "colab": {
          "base_uri": "https://localhost:8080/"
        },
        "id": "EzBW9V2Z80gY",
        "outputId": "6f7cb193-667d-44f8-d95e-5645cbfc9642"
      },
      "execution_count": null,
      "outputs": [
        {
          "output_type": "stream",
          "name": "stdout",
          "text": [
            "Matriz 4x4:\n",
            "[1, 2, 4, 8, 16, 32, 64, 128]\n",
            "[256, 512, 1024, 2048, 4096, 8192, 16384, 32768]\n",
            "[65536, 131072, 262144, 524288, 1048576, 2097152, 4194304, 8388608]\n",
            "[16777216, 33554432, 67108864, 134217728, 268435456, 536870912, 1073741824, 2147483648]\n",
            "[4294967296, 8589934592, 17179869184, 34359738368, 68719476736, 137438953472, 274877906944, 549755813888]\n",
            "[1099511627776, 2199023255552, 4398046511104, 8796093022208, 17592186044416, 35184372088832, 70368744177664, 140737488355328]\n",
            "[281474976710656, 562949953421312, 1125899906842624, 2251799813685248, 4503599627370496, 9007199254740992, 18014398509481984, 36028797018963968]\n",
            "[72057594037927936, 144115188075855872, 288230376151711744, 576460752303423488, 1152921504606846976, 2305843009213693952, 4611686018427387904, 9223372036854775808]\n"
          ]
        }
      ]
    },
    {
      "cell_type": "markdown",
      "source": [
        "11- Criar uma matriz [8][8] inteiro e o programa irá carregar segundo:\n",
        "\n",
        "afunilamento de 1 até 4"
      ],
      "metadata": {
        "id": "wG1oS0zf9e3p"
      }
    },
    {
      "cell_type": "code",
      "source": [
        "n = 8\n",
        "mat = [[0 for _ in range(n)] for _ in range(n)]\n",
        "\n",
        "for z in range(4):\n",
        "    valor = z + 1\n",
        "    for x in range(z, n - z):\n",
        "        for y in range(z, n - z):\n",
        "            mat[x][y] = valor\n",
        "\n",
        "print(\"Matriz 8x8 seguindo o padrão:\")\n",
        "for linha in mat:\n",
        "    print(' '.join(str(num) for num in linha))\n"
      ],
      "metadata": {
        "colab": {
          "base_uri": "https://localhost:8080/"
        },
        "id": "yyznkAzr_bSQ",
        "outputId": "445835d0-4b6a-4418-f464-490001a20112"
      },
      "execution_count": null,
      "outputs": [
        {
          "output_type": "stream",
          "name": "stdout",
          "text": [
            "Matriz 8x8 seguindo o padrão:\n",
            "1 1 1 1 1 1 1 1\n",
            "1 2 2 2 2 2 2 1\n",
            "1 2 3 3 3 3 2 1\n",
            "1 2 3 4 4 3 2 1\n",
            "1 2 3 4 4 3 2 1\n",
            "1 2 3 3 3 3 2 1\n",
            "1 2 2 2 2 2 2 1\n",
            "1 1 1 1 1 1 1 1\n"
          ]
        }
      ]
    },
    {
      "cell_type": "markdown",
      "source": [
        "12- Carregar códigos das peças em um tabuleiro de xadrez, onde:\n",
        "\n",
        "Calcular e mostrar a soma das peças do tabuleiro.\n",
        "\n",
        "Não pode utilizar estrutura de decisão e Escolha Caso na contagem das peças"
      ],
      "metadata": {
        "id": "ciWghfABBB-A"
      }
    },
    {
      "cell_type": "code",
      "source": [
        "linhas = 8\n",
        "colunas = 8\n",
        "\n",
        "tabuleiro = []\n",
        "\n",
        "print(\"Digite os códigos das peças (1 a 7) para o tabuleiro 8x8:\")\n",
        "for i in range(linhas):\n",
        "    linha = []\n",
        "    for j in range(colunas):\n",
        "        valor = int(input(f\"Posição [{i}][{j}]: \"))\n",
        "        linha.append(valor)\n",
        "    tabuleiro.append(linha)\n",
        "\n",
        "contagem = [0] * 8\n",
        "\n",
        "for linha in tabuleiro:\n",
        "    for codigo in linha:\n",
        "        contagem[codigo] += 1\n",
        "\n",
        "pecas = [\"\", \"Peão\", \"Torre\", \"Bispo\", \"Cavalo\", \"Rainha\", \"Rei\", \"Vazio\"]\n",
        "\n",
        "print(\"\\nQuantidade de cada peça no tabuleiro:\")\n",
        "for codigo in range(1, 8):\n",
        "    print(f\"{pecas[codigo]}: {contagem[codigo]}\")"
      ],
      "metadata": {
        "colab": {
          "base_uri": "https://localhost:8080/"
        },
        "id": "Om1cIhcyBCbo",
        "outputId": "0de1ccee-36e8-4f25-c627-c2799da31c6d"
      },
      "execution_count": null,
      "outputs": [
        {
          "output_type": "stream",
          "name": "stdout",
          "text": [
            "Digite os códigos das peças (1 a 7) para o tabuleiro 8x8:\n",
            "Posição [0][0]: 1\n",
            "Posição [0][1]: 1\n",
            "Posição [0][2]: 1\n",
            "Posição [0][3]: 1\n",
            "Posição [0][4]: 1\n",
            "Posição [0][5]: 1\n",
            "Posição [0][6]: 1\n",
            "Posição [0][7]: 1\n",
            "Posição [1][0]: 1\n",
            "Posição [1][1]: 1\n",
            "Posição [1][2]: 1\n",
            "Posição [1][3]: 1\n",
            "Posição [1][4]: 1\n",
            "Posição [1][5]: 1\n",
            "Posição [1][6]: 1\n",
            "Posição [1][7]: 1\n",
            "Posição [2][0]: 2\n",
            "Posição [2][1]: 2\n",
            "Posição [2][2]: 2\n",
            "Posição [2][3]: 2\n",
            "Posição [2][4]: 3\n",
            "Posição [2][5]: 3\n",
            "Posição [2][6]: 3\n",
            "Posição [2][7]: 3\n",
            "Posição [3][0]: 4\n",
            "Posição [3][1]: 4\n",
            "Posição [3][2]: 4\n",
            "Posição [3][3]: 4\n",
            "Posição [3][4]: 5\n",
            "Posição [3][5]: 5\n",
            "Posição [3][6]: 6\n",
            "Posição [3][7]: 6\n",
            "Posição [4][0]: 7\n",
            "Posição [4][1]: 7\n",
            "Posição [4][2]: 7\n",
            "Posição [4][3]: 7\n",
            "Posição [4][4]: 7\n",
            "Posição [4][5]: 7\n",
            "Posição [4][6]: 7\n",
            "Posição [4][7]: 7\n",
            "Posição [5][0]: 7\n",
            "Posição [5][1]: 7\n",
            "Posição [5][2]: 7\n",
            "Posição [5][3]: 7\n",
            "Posição [5][4]: 7\n",
            "Posição [5][5]: 7\n",
            "Posição [5][6]: 7\n",
            "Posição [5][7]: 7\n",
            "Posição [6][0]: 7\n",
            "Posição [6][1]: 7\n",
            "Posição [6][2]: 7\n",
            "Posição [6][3]: 7\n",
            "Posição [6][4]: 7\n",
            "Posição [6][5]: 7\n",
            "Posição [6][6]: 7\n",
            "Posição [6][7]: 7\n",
            "Posição [7][0]: 7\n",
            "Posição [7][1]: 7\n",
            "Posição [7][2]: 7\n",
            "Posição [7][3]: 7\n",
            "Posição [7][4]: 7\n",
            "Posição [7][5]: 7\n",
            "Posição [7][6]: 7\n",
            "Posição [7][7]: 7\n",
            "\n",
            "Quantidade de cada peça no tabuleiro:\n",
            "Peão: 16\n",
            "Torre: 4\n",
            "Bispo: 4\n",
            "Cavalo: 4\n",
            "Rainha: 2\n",
            "Rei: 2\n",
            "Vazio: 32\n"
          ]
        }
      ]
    }
  ]
}